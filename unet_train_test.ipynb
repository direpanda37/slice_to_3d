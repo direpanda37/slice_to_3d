{
 "cells": [
  {
   "cell_type": "code",
   "execution_count": null,
   "metadata": {},
   "outputs": [],
   "source": [
    "from model import *\n",
    "from data import *"
   ]
  },
  {
   "attachments": {},
   "cell_type": "markdown",
   "metadata": {},
   "source": [
    "## Train your Unet with membrane data\n",
    "membrane data is in folder membrane/, it is a binary classification task.\n",
    "\n",
    "The input shape of image and mask are the same :(batch_size,rows,cols,channel = 1)"
   ]
  },
  {
   "attachments": {},
   "cell_type": "markdown",
   "metadata": {},
   "source": [
    "### Train with data generator"
   ]
  },
  {
   "cell_type": "code",
   "execution_count": null,
   "metadata": {},
   "outputs": [],
   "source": [
    "data_gen_args = dict(rotation_range=0.2,\n",
    "                     width_shift_range=0.05,\n",
    "                     height_shift_range=0.05,\n",
    "                     shear_range=0.05,\n",
    "                     zoom_range=0.05,\n",
    "                     horizontal_flip=True,\n",
    "                     fill_mode='nearest')\n",
    "\n",
    "# Load training data generator\n",
    "train_data_gen = trainGenerator(2, 'data/membrane/train', 'image', 'label', data_gen_args, save_to_dir=None)\n",
    "\n",
    "# Build the UNet model\n",
    "model = unet_model()\n",
    "model_checkpoint = ModelCheckpoint('unet_membrane2.hdf5', monitor='loss', verbose=1, save_best_only=True)\n",
    "\n",
    "# Fit the model using the training data generator\n",
    "model.fit(train_data_gen, steps_per_epoch=2000, epochs=5, callbacks=[model_checkpoint])"
   ]
  },
  {
   "attachments": {},
   "cell_type": "markdown",
   "metadata": {},
   "source": [
    "### Train with npy file"
   ]
  },
  {
   "cell_type": "code",
   "execution_count": null,
   "metadata": {},
   "outputs": [],
   "source": [
    "#imgs_train,imgs_mask_train = geneTrainNpy(\"data/membrane/train/aug/\",\"data/membrane/train/aug/\")\n",
    "#model.fit(imgs_train, imgs_mask_train, batch_size=2, nb_epoch=10, verbose=1,validation_split=0.2, shuffle=True, callbacks=[model_checkpoint])"
   ]
  },
  {
   "attachments": {},
   "cell_type": "markdown",
   "metadata": {},
   "source": [
    "### test your model and save predicted results"
   ]
  },
  {
   "cell_type": "code",
   "execution_count": 9,
   "metadata": {},
   "outputs": [
    {
     "name": "stdout",
     "output_type": "stream",
     "text": [
      "Model: \"model_6\"\n",
      "__________________________________________________________________________________________________\n",
      " Layer (type)                Output Shape                 Param #   Connected to                  \n",
      "==================================================================================================\n",
      " input_7 (InputLayer)        [(None, 256, 256, 1)]        0         []                            \n",
      "                                                                                                  \n",
      " conv2d_144 (Conv2D)         (None, 256, 256, 64)         640       ['input_7[0][0]']             \n",
      "                                                                                                  \n",
      " conv2d_145 (Conv2D)         (None, 256, 256, 64)         36928     ['conv2d_144[0][0]']          \n",
      "                                                                                                  \n",
      " max_pooling2d_24 (MaxPooli  (None, 128, 128, 64)         0         ['conv2d_145[0][0]']          \n",
      " ng2D)                                                                                            \n",
      "                                                                                                  \n",
      " conv2d_146 (Conv2D)         (None, 128, 128, 128)        73856     ['max_pooling2d_24[0][0]']    \n",
      "                                                                                                  \n",
      " conv2d_147 (Conv2D)         (None, 128, 128, 128)        147584    ['conv2d_146[0][0]']          \n",
      "                                                                                                  \n",
      " max_pooling2d_25 (MaxPooli  (None, 64, 64, 128)          0         ['conv2d_147[0][0]']          \n",
      " ng2D)                                                                                            \n",
      "                                                                                                  \n",
      " conv2d_148 (Conv2D)         (None, 64, 64, 256)          295168    ['max_pooling2d_25[0][0]']    \n",
      "                                                                                                  \n",
      " conv2d_149 (Conv2D)         (None, 64, 64, 256)          590080    ['conv2d_148[0][0]']          \n",
      "                                                                                                  \n",
      " max_pooling2d_26 (MaxPooli  (None, 32, 32, 256)          0         ['conv2d_149[0][0]']          \n",
      " ng2D)                                                                                            \n",
      "                                                                                                  \n",
      " conv2d_150 (Conv2D)         (None, 32, 32, 512)          1180160   ['max_pooling2d_26[0][0]']    \n",
      "                                                                                                  \n",
      " conv2d_151 (Conv2D)         (None, 32, 32, 512)          2359808   ['conv2d_150[0][0]']          \n",
      "                                                                                                  \n",
      " dropout_12 (Dropout)        (None, 32, 32, 512)          0         ['conv2d_151[0][0]']          \n",
      "                                                                                                  \n",
      " max_pooling2d_27 (MaxPooli  (None, 16, 16, 512)          0         ['dropout_12[0][0]']          \n",
      " ng2D)                                                                                            \n",
      "                                                                                                  \n",
      " conv2d_152 (Conv2D)         (None, 16, 16, 1024)         4719616   ['max_pooling2d_27[0][0]']    \n",
      "                                                                                                  \n",
      " conv2d_153 (Conv2D)         (None, 16, 16, 1024)         9438208   ['conv2d_152[0][0]']          \n",
      "                                                                                                  \n",
      " dropout_13 (Dropout)        (None, 16, 16, 1024)         0         ['conv2d_153[0][0]']          \n",
      "                                                                                                  \n",
      " up_sampling2d_24 (UpSampli  (None, 32, 32, 1024)         0         ['dropout_13[0][0]']          \n",
      " ng2D)                                                                                            \n",
      "                                                                                                  \n",
      " conv2d_154 (Conv2D)         (None, 32, 32, 512)          2097664   ['up_sampling2d_24[0][0]']    \n",
      "                                                                                                  \n",
      " concatenate_24 (Concatenat  (None, 32, 32, 1024)         0         ['dropout_12[0][0]',          \n",
      " e)                                                                  'conv2d_154[0][0]']          \n",
      "                                                                                                  \n",
      " conv2d_155 (Conv2D)         (None, 32, 32, 512)          4719104   ['concatenate_24[0][0]']      \n",
      "                                                                                                  \n",
      " conv2d_156 (Conv2D)         (None, 32, 32, 512)          2359808   ['conv2d_155[0][0]']          \n",
      "                                                                                                  \n",
      " up_sampling2d_25 (UpSampli  (None, 64, 64, 512)          0         ['conv2d_156[0][0]']          \n",
      " ng2D)                                                                                            \n",
      "                                                                                                  \n",
      " conv2d_157 (Conv2D)         (None, 64, 64, 256)          524544    ['up_sampling2d_25[0][0]']    \n",
      "                                                                                                  \n",
      " concatenate_25 (Concatenat  (None, 64, 64, 512)          0         ['conv2d_149[0][0]',          \n",
      " e)                                                                  'conv2d_157[0][0]']          \n",
      "                                                                                                  \n",
      " conv2d_158 (Conv2D)         (None, 64, 64, 256)          1179904   ['concatenate_25[0][0]']      \n",
      "                                                                                                  \n",
      " conv2d_159 (Conv2D)         (None, 64, 64, 256)          590080    ['conv2d_158[0][0]']          \n",
      "                                                                                                  \n",
      " up_sampling2d_26 (UpSampli  (None, 128, 128, 256)        0         ['conv2d_159[0][0]']          \n",
      " ng2D)                                                                                            \n",
      "                                                                                                  \n",
      " conv2d_160 (Conv2D)         (None, 128, 128, 128)        131200    ['up_sampling2d_26[0][0]']    \n",
      "                                                                                                  \n",
      " concatenate_26 (Concatenat  (None, 128, 128, 256)        0         ['conv2d_147[0][0]',          \n",
      " e)                                                                  'conv2d_160[0][0]']          \n",
      "                                                                                                  \n",
      " conv2d_161 (Conv2D)         (None, 128, 128, 128)        295040    ['concatenate_26[0][0]']      \n",
      "                                                                                                  \n",
      " conv2d_162 (Conv2D)         (None, 128, 128, 128)        147584    ['conv2d_161[0][0]']          \n",
      "                                                                                                  \n",
      " up_sampling2d_27 (UpSampli  (None, 256, 256, 128)        0         ['conv2d_162[0][0]']          \n",
      " ng2D)                                                                                            \n",
      "                                                                                                  \n",
      " conv2d_163 (Conv2D)         (None, 256, 256, 64)         32832     ['up_sampling2d_27[0][0]']    \n",
      "                                                                                                  \n",
      " concatenate_27 (Concatenat  (None, 256, 256, 128)        0         ['conv2d_145[0][0]',          \n",
      " e)                                                                  'conv2d_163[0][0]']          \n",
      "                                                                                                  \n",
      " conv2d_164 (Conv2D)         (None, 256, 256, 64)         73792     ['concatenate_27[0][0]']      \n",
      "                                                                                                  \n",
      " conv2d_165 (Conv2D)         (None, 256, 256, 64)         36928     ['conv2d_164[0][0]']          \n",
      "                                                                                                  \n",
      " conv2d_166 (Conv2D)         (None, 256, 256, 2)          1154      ['conv2d_165[0][0]']          \n",
      "                                                                                                  \n",
      " conv2d_167 (Conv2D)         (None, 256, 256, 1)          3         ['conv2d_166[0][0]']          \n",
      "                                                                                                  \n",
      "==================================================================================================\n",
      "Total params: 31031685 (118.38 MB)\n",
      "Trainable params: 31031685 (118.38 MB)\n",
      "Non-trainable params: 0 (0.00 Byte)\n",
      "__________________________________________________________________________________________________\n"
     ]
    },
    {
     "name": "stderr",
     "output_type": "stream",
     "text": [
      "/var/folders/pm/t5s9l8k91w5910cl36kp3w2c0000gn/T/ipykernel_30463/2616778190.py:4: UserWarning: `Model.predict_generator` is deprecated and will be removed in a future version. Please use `Model.predict`, which supports generators.\n",
      "  results = model.predict_generator(testGene,30,verbose=1)\n",
      "2023-06-10 14:08:03.036698: I tensorflow/core/common_runtime/executor.cc:1210] [/device:CPU:0] (DEBUG INFO) Executor start aborting (this does not indicate an error and you can ignore this message): INVALID_ARGUMENT: You must feed a value for placeholder tensor 'Placeholder/_0' with dtype int32\n",
      "\t [[{{node Placeholder/_0}}]]\n"
     ]
    },
    {
     "name": "stdout",
     "output_type": "stream",
     "text": [
      "30/30 [==============================] - 7s 234ms/step\n"
     ]
    },
    {
     "name": "stderr",
     "output_type": "stream",
     "text": [
      "Lossy conversion from float32 to uint8. Range [0, 1]. Convert image to uint8 prior to saving to suppress this warning.\n",
      "Lossy conversion from float32 to uint8. Range [0, 1]. Convert image to uint8 prior to saving to suppress this warning.\n",
      "Lossy conversion from float32 to uint8. Range [0, 1]. Convert image to uint8 prior to saving to suppress this warning.\n",
      "Lossy conversion from float32 to uint8. Range [0, 1]. Convert image to uint8 prior to saving to suppress this warning.\n",
      "Lossy conversion from float32 to uint8. Range [0, 1]. Convert image to uint8 prior to saving to suppress this warning.\n",
      "Lossy conversion from float32 to uint8. Range [0, 1]. Convert image to uint8 prior to saving to suppress this warning.\n",
      "Lossy conversion from float32 to uint8. Range [0, 1]. Convert image to uint8 prior to saving to suppress this warning.\n",
      "Lossy conversion from float32 to uint8. Range [0, 1]. Convert image to uint8 prior to saving to suppress this warning.\n",
      "Lossy conversion from float32 to uint8. Range [0, 1]. Convert image to uint8 prior to saving to suppress this warning.\n",
      "Lossy conversion from float32 to uint8. Range [0, 1]. Convert image to uint8 prior to saving to suppress this warning.\n",
      "Lossy conversion from float32 to uint8. Range [0, 1]. Convert image to uint8 prior to saving to suppress this warning.\n",
      "Lossy conversion from float32 to uint8. Range [0, 1]. Convert image to uint8 prior to saving to suppress this warning.\n",
      "Lossy conversion from float32 to uint8. Range [0, 1]. Convert image to uint8 prior to saving to suppress this warning.\n",
      "Lossy conversion from float32 to uint8. Range [0, 1]. Convert image to uint8 prior to saving to suppress this warning.\n",
      "Lossy conversion from float32 to uint8. Range [0, 1]. Convert image to uint8 prior to saving to suppress this warning.\n",
      "Lossy conversion from float32 to uint8. Range [0, 1]. Convert image to uint8 prior to saving to suppress this warning.\n",
      "Lossy conversion from float32 to uint8. Range [0, 1]. Convert image to uint8 prior to saving to suppress this warning.\n",
      "Lossy conversion from float32 to uint8. Range [0, 1]. Convert image to uint8 prior to saving to suppress this warning.\n",
      "Lossy conversion from float32 to uint8. Range [0, 1]. Convert image to uint8 prior to saving to suppress this warning.\n",
      "Lossy conversion from float32 to uint8. Range [0, 1]. Convert image to uint8 prior to saving to suppress this warning.\n",
      "Lossy conversion from float32 to uint8. Range [0, 1]. Convert image to uint8 prior to saving to suppress this warning.\n",
      "Lossy conversion from float32 to uint8. Range [0, 1]. Convert image to uint8 prior to saving to suppress this warning.\n",
      "Lossy conversion from float32 to uint8. Range [0, 1]. Convert image to uint8 prior to saving to suppress this warning.\n",
      "Lossy conversion from float32 to uint8. Range [0, 1]. Convert image to uint8 prior to saving to suppress this warning.\n",
      "Lossy conversion from float32 to uint8. Range [0, 1]. Convert image to uint8 prior to saving to suppress this warning.\n",
      "Lossy conversion from float32 to uint8. Range [0, 1]. Convert image to uint8 prior to saving to suppress this warning.\n",
      "Lossy conversion from float32 to uint8. Range [0, 1]. Convert image to uint8 prior to saving to suppress this warning.\n",
      "Lossy conversion from float32 to uint8. Range [0, 1]. Convert image to uint8 prior to saving to suppress this warning.\n",
      "Lossy conversion from float32 to uint8. Range [0, 1]. Convert image to uint8 prior to saving to suppress this warning.\n",
      "Lossy conversion from float32 to uint8. Range [0, 1]. Convert image to uint8 prior to saving to suppress this warning.\n"
     ]
    }
   ],
   "source": [
    "testGene = testGenerator(\"data/membrane/test\")\n",
    "model = unet_model()\n",
    "model.load_weights(\"unet_membrane.hdf5\")\n",
    "results = model.predict_generator(testGene,30,verbose=1)\n",
    "saveResult(\"data/membrane/test\",results)"
   ]
  },
  {
   "cell_type": "code",
   "execution_count": null,
   "metadata": {},
   "outputs": [],
   "source": []
  }
 ],
 "metadata": {
  "kernelspec": {
   "display_name": "Python 3",
   "language": "python",
   "name": "python3"
  },
  "language_info": {
   "codemirror_mode": {
    "name": "ipython",
    "version": 3
   },
   "file_extension": ".py",
   "mimetype": "text/x-python",
   "name": "python",
   "nbconvert_exporter": "python",
   "pygments_lexer": "ipython3",
   "version": "3.10.9"
  }
 },
 "nbformat": 4,
 "nbformat_minor": 2
}
